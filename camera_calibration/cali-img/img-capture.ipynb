{
 "cells": [
  {
   "cell_type": "markdown",
   "metadata": {},
   "source": [
    "## capture images from camera for calibration"
   ]
  },
  {
   "cell_type": "code",
   "execution_count": null,
   "metadata": {
    "collapsed": true,
    "scrolled": true
   },
   "outputs": [],
   "source": [
    "import cv2\n",
    "cap = cv2.VideoCapture(0)\n",
    "while(1):\n",
    "    ret,frame = cap.read()\n",
    "    if not ret:\n",
    "        print(\"no image!\")\n",
    "    else:\n",
    "        cv2.imshow('capture',frame)\n",
    "    if cv2.waitKey(10) & 0xFF == ord('q'):\n",
    "        print(\"save image\")\n",
    "        cv2.imwrite('chess15.jpg',frame)\n",
    "        break\n",
    "cap.release()\n",
    "cv2.destroyAllWindows()"
   ]
  }
 ],
 "metadata": {
  "kernelspec": {
   "display_name": "Python 3",
   "language": "python",
   "name": "python3"
  },
  "language_info": {
   "codemirror_mode": {
    "name": "ipython",
    "version": 3
   },
   "file_extension": ".py",
   "mimetype": "text/x-python",
   "name": "python",
   "nbconvert_exporter": "python",
   "pygments_lexer": "ipython3",
   "version": "3.5.2"
  }
 },
 "nbformat": 4,
 "nbformat_minor": 2
}
