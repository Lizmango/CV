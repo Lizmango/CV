{
 "cells": [
  {
   "cell_type": "markdown",
   "metadata": {},
   "source": [
    "## camera calibration\n",
    "-\n",
    "-\n",
    "-\n"
   ]
  },
  {
   "cell_type": "markdown",
   "metadata": {},
   "source": [
    "### obtain the camera matrix"
   ]
  },
  {
   "cell_type": "code",
   "execution_count": 22,
   "metadata": {},
   "outputs": [],
   "source": [
    "import numpy as np\n",
    "import cv2\n",
    "import glob\n",
    "\n",
    "# termination criteria\n",
    "criteria = (cv2.TERM_CRITERIA_EPS + cv2.TERM_CRITERIA_MAX_ITER, 30, 0.001)\n",
    "\n",
    "# prepare object points, like (0,0,0), (1,0,0), (2,0,0) ....,(6,5,0)\n",
    "objp = np.zeros((7*9,3), np.float32)\n",
    "objp[:,:2] = np.mgrid[0:9,0:7].T.reshape(-1,2)\n",
    "\n",
    "# Arrays to store object points and image points from all the images.\n",
    "objpoints = [] # 3d point in real world space\n",
    "imgpoints = [] # 2d points in image plane.\n",
    "\n",
    "images = glob.glob('*.jpg')\n",
    "\n",
    "for fname in images:\n",
    "    img = cv2.imread(fname)\n",
    "    gray = cv2.cvtColor(img,cv2.COLOR_BGR2GRAY)\n",
    "\n",
    "    # Find the chess board corners\n",
    "    ret, corners = cv2.findChessboardCorners(gray, (9,7),None)\n",
    "\n",
    "    # If found, add object points, image points (after refining them)\n",
    "    if ret == True:\n",
    "        objpoints.append(objp)\n",
    "\n",
    "        corners2 = cv2.cornerSubPix(gray,corners,(11,11),(-1,-1),criteria)\n",
    "        imgpoints.append(corners2)\n",
    "\n",
    "        # Draw and display the corners\n",
    "        img = cv2.drawChessboardCorners(img, (9,7), corners2,ret)\n",
    "        cv2.imshow('img',img)\n",
    "        cv2.waitKey(2000)\n",
    "        \n",
    "cv2.destroyAllWindows()\n",
    "\n",
    "\n",
    "ret, mtx, dist, rvecs, tvecs = cv2.calibrateCamera(objpoints, imgpoints, gray.shape[::-1],None,None)\n",
    "\n",
    "\n"
   ]
  },
  {
   "cell_type": "markdown",
   "metadata": {},
   "source": [
    "### print the camera matrix"
   ]
  },
  {
   "cell_type": "code",
   "execution_count": 32,
   "metadata": {},
   "outputs": [
    {
     "name": "stdout",
     "output_type": "stream",
     "text": [
      "[[ 845.85589625    0.          291.79993605]\n",
      " [   0.          796.58787076  278.8003796 ]\n",
      " [   0.            0.            1.        ]]\n"
     ]
    }
   ],
   "source": [
    "# print the camera matrix\n",
    "print(mtx)\n"
   ]
  },
  {
   "cell_type": "code",
   "execution_count": 24,
   "metadata": {},
   "outputs": [
    {
     "data": {
      "text/plain": [
       "numpy.ndarray"
      ]
     },
     "execution_count": 24,
     "metadata": {},
     "output_type": "execute_result"
    }
   ],
   "source": [
    "type(mtx)"
   ]
  },
  {
   "cell_type": "markdown",
   "metadata": {},
   "source": [
    "### convert camera matrix from array to dict "
   ]
  },
  {
   "cell_type": "code",
   "execution_count": 25,
   "metadata": {},
   "outputs": [
    {
     "name": "stdout",
     "output_type": "stream",
     "text": [
      "{1: 845.85589625293278, 2: 0.0, 3: 291.79993605092363, 4: 0.0, 5: 796.58787076147109, 6: 278.80037960002295, 7: 0.0, 8: 0.0, 9: 1.0}\n"
     ]
    }
   ],
   "source": [
    "mtx_dict = dict(enumerate(mtx.flatten(), 1))\n",
    "print(m)"
   ]
  },
  {
   "cell_type": "markdown",
   "metadata": {},
   "source": [
    "### generate yaml document"
   ]
  },
  {
   "cell_type": "code",
   "execution_count": 26,
   "metadata": {},
   "outputs": [],
   "source": [
    "import yaml\n",
    "\n",
    "with open('mtx_test.yml', 'w') as outfile:\n",
    "    yaml.dump(mtx_dict, outfile, default_flow_style=False)\n",
    "f = open('mtx_test.yml')\n",
    "x = yaml.load(f)\n",
    "print(x)\n",
    "    "
   ]
  },
  {
   "cell_type": "markdown",
   "metadata": {},
   "source": [
    "### define the matx_get function to get matrix from yaml document "
   ]
  },
  {
   "cell_type": "markdown",
   "metadata": {},
   "source": [
    "**warning:**\n",
    "\n",
    "  wrong format of output\n",
    "  \n",
    "**code**\n",
    "```py\n",
    "    print('camera_matrix \\n',cam)\n",
    "    print('distortion_coefficients \\n',dis)\n",
    "    print('projection_matrix \\n',pro)\n",
    "    print('rectification_matrix \\n',rec)\n",
    "```\n",
    "**output**\n",
    "```py\n",
    "('camera_matrix \\n', matrix([[  2.30259000e+03,   0.00000000e+00,   6.10756000e+02],\n",
    "        [  0.00000000e+00,   2.30946000e+03,   5.06539000e+02],\n",
    "        [  0.00000000e+00,   0.00000000e+00,   1.00000000e+00]]))\n",
    "('distortion_coefficients \\n', matrix([[ -2.25495000e-01,  -3.63048000e-01,  -4.77994000e-04,\n",
    "          -1.32753000e-04,   0.00000000e+00]]))\n",
    "('projection_matrix \\n', matrix([[  2.30259000e+03,   0.00000000e+00,   6.10756000e+02,\n",
    "           0.00000000e+00],\n",
    "        [  0.00000000e+00,   2.30946000e+03,   5.06539000e+02,\n",
    "           0.00000000e+00],\n",
    "        [  0.00000000e+00,   0.00000000e+00,   1.00000000e+00,\n",
    "           0.00000000e+00]]))\n",
    "('rectification_matrix \\n', matrix([[1, 0, 0],\n",
    "        [0, 1, 0],\n",
    "        [0, 0, 1]]))\n",
    "```\n"
   ]
  },
  {
   "cell_type": "code",
   "execution_count": 29,
   "metadata": {},
   "outputs": [],
   "source": [
    "file_name = ('camera_matrix.yaml')"
   ]
  },
  {
   "cell_type": "code",
   "execution_count": 33,
   "metadata": {},
   "outputs": [
    {
     "name": "stdout",
     "output_type": "stream",
     "text": [
      "camera_matrix:  \n",
      " [[  2.30259000e+03   0.00000000e+00   6.10756000e+02]\n",
      " [  0.00000000e+00   2.30946000e+03   5.06539000e+02]\n",
      " [  0.00000000e+00   0.00000000e+00   1.00000000e+00]]\n",
      "distortion_coefficients:  \n",
      " [[ -2.25495000e-01  -3.63048000e-01  -4.77994000e-04  -1.32753000e-04\n",
      "    0.00000000e+00]]\n",
      "projection_matrix:  \n",
      " [[  2.30259000e+03   0.00000000e+00   6.10756000e+02   0.00000000e+00]\n",
      " [  0.00000000e+00   2.30946000e+03   5.06539000e+02   0.00000000e+00]\n",
      " [  0.00000000e+00   0.00000000e+00   1.00000000e+00   0.00000000e+00]]\n",
      "rectification_matrix:  \n",
      " [[1 0 0]\n",
      " [0 1 0]\n",
      " [0 0 1]]\n"
     ]
    }
   ],
   "source": [
    "import yaml\n",
    "import numpy as np\n",
    "\n",
    "def matx_get(file_name):\n",
    "    f = open(file_name)\n",
    "    mtrx = yaml.load(f)\n",
    "    \n",
    "    cam = np.matrix(mtrx['camera_matrix']['data']).reshape(3,3)\n",
    "    dis = np.matrix(mtrx['distortion_coefficients']['data']).reshape(1,5) \n",
    "    pro = np.matrix(mtrx['projection_matrix']['data']).reshape(3,4)\n",
    "    rec = np.matrix(mtrx['rectification_matrix']['data']).reshape(3,3)\n",
    "    \n",
    "    print(\"camera_matrix:  \\n {}\".format(cam))\n",
    "    print(\"distortion_coefficients:  \\n {}\".format(dis))\n",
    "    print(\"projection_matrix:  \\n {}\".format(pro))\n",
    "    print(\"rectification_matrix:  \\n {}\".format(rec))\n",
    "\n",
    "matx_get('camera_matrix.yaml')   "
   ]
  },
  {
   "cell_type": "markdown",
   "metadata": {},
   "source": [
    "### using undistort"
   ]
  },
  {
   "cell_type": "code",
   "execution_count": 7,
   "metadata": {},
   "outputs": [
    {
     "data": {
      "text/plain": [
       "True"
      ]
     },
     "execution_count": 7,
     "metadata": {},
     "output_type": "execute_result"
    }
   ],
   "source": [
    "#using undistort\n",
    "img = cv2.imread('chess08.jpg')\n",
    "h,  w = img.shape[:2]\n",
    "newcameramtx, roi=cv2.getOptimalNewCameraMatrix(mtx,dist,(w,h),1,(w,h))\n",
    "\n",
    "# undistort\n",
    "dst = cv2.undistort(img, mtx, dist, None, newcameramtx)\n",
    "\n",
    "# crop the image\n",
    "x,y,w,h = roi\n",
    "dst = dst[y:y+h, x:x+w]\n",
    "cv2.imwrite('calibresult1.png',dst)"
   ]
  },
  {
   "cell_type": "markdown",
   "metadata": {},
   "source": [
    "### using remaping"
   ]
  },
  {
   "cell_type": "code",
   "execution_count": 13,
   "metadata": {},
   "outputs": [
    {
     "data": {
      "text/plain": [
       "True"
      ]
     },
     "execution_count": 13,
     "metadata": {},
     "output_type": "execute_result"
    }
   ],
   "source": [
    "#using remaping\n",
    "# undistort\n",
    "mapx,mapy = cv2.initUndistortRectifyMap(mtx,dist,None,newcameramtx,(w,h),5)\n",
    "dst = cv2.remap(img,mapx,mapy,cv2.INTER_LINEAR)\n",
    "\n",
    "# crop the image\n",
    "x,y,w,h = roi\n",
    "dst = dst[y:y+h, x:x+w]\n",
    "cv2.imwrite('calibresult2.png',dst)"
   ]
  },
  {
   "cell_type": "markdown",
   "metadata": {},
   "source": [
    "### calculate error"
   ]
  },
  {
   "cell_type": "code",
   "execution_count": 8,
   "metadata": {},
   "outputs": [
    {
     "name": "stdout",
     "output_type": "stream",
     "text": [
      "tot_error 0.109478\n",
      "tot_error 0.233759\n",
      "tot_error 0.318128\n",
      "tot_error 0.390566\n",
      "tot_error 0.483587\n",
      "tot_error 0.561234\n",
      "tot_error 0.674374\n",
      "tot_error 0.762033\n",
      "tot_error 0.837495\n",
      "tot_error 0.911084\n",
      "tot_error 1.005607\n",
      "tot_error 1.139577\n",
      "tot_error 1.233083\n",
      "tot_error 1.292589\n",
      "total error: 0.092328\n"
     ]
    }
   ],
   "source": [
    "mean_error = 0\n",
    "tot_error =0\n",
    "for i in range(len(objpoints)):\n",
    "    imgpoints2, _ = cv2.projectPoints(objpoints[i], rvecs[i], tvecs[i], mtx, dist)\n",
    "    error = cv2.norm(imgpoints[i],imgpoints2, cv2.NORM_L2)/len(imgpoints2)\n",
    "    tot_error += error\n",
    "    print(\"tot_error %f\"%(tot_error))\n",
    "\n",
    "    \n",
    "print (\"total error: %f\"%(tot_error/len(objpoints)))"
   ]
  },
  {
   "cell_type": "code",
   "execution_count": null,
   "metadata": {
    "collapsed": true
   },
   "outputs": [],
   "source": []
  }
 ],
 "metadata": {
  "kernelspec": {
   "display_name": "Python 3",
   "language": "python",
   "name": "python3"
  },
  "language_info": {
   "codemirror_mode": {
    "name": "ipython",
    "version": 2
   },
   "file_extension": ".py",
   "mimetype": "text/x-python",
   "name": "python",
   "nbconvert_exporter": "python",
   "pygments_lexer": "ipython2",
   "version": "2.7.12"
  }
 },
 "nbformat": 4,
 "nbformat_minor": 2
}
