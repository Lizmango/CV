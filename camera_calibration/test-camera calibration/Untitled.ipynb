{
 "cells": [
  {
   "cell_type": "code",
   "execution_count": null,
   "metadata": {
    "collapsed": true
   },
   "outputs": [],
   "source": [
    "import sys\n",
    "import ruamel.yaml as yaml\n",
    "from ruamel.yaml.comments import CommentedSeq, CommentedMap\n",
    "\n",
    "cm = CommentedMap()\n",
    "cm['image_width'] = 1280\n",
    "cm['image_height'] = 960\n",
    "cm['camera_name'] = \"xiaohua\"\n",
    "cm['camera_matrix']['rows'] =3\n",
    "cm['camera_matrix']['cols'] = 3\n",
    "cm['camera_matrix']['data']= cl = CommentedSeq(mtx)\n",
    "cl.append(4)\n",
    "cl.fa.set_flow_style()\n",
    "\n",
    "with open('data.yml', 'w') as outfile:\n",
    "    yaml.dump(cm, outfile, Dumper=yaml.RoundTripDumper)"
   ]
  }
 ],
 "metadata": {
  "kernelspec": {
   "display_name": "Python 3",
   "language": "python",
   "name": "python3"
  },
  "language_info": {
   "codemirror_mode": {
    "name": "ipython",
    "version": 3
   },
   "file_extension": ".py",
   "mimetype": "text/x-python",
   "name": "python",
   "nbconvert_exporter": "python",
   "pygments_lexer": "ipython3",
   "version": "3.5.2"
  }
 },
 "nbformat": 4,
 "nbformat_minor": 2
}
