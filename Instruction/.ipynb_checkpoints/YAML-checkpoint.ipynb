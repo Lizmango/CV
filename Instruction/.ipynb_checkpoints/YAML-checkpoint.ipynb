{
 "cells": [
  {
   "cell_type": "markdown",
   "metadata": {},
   "source": [
    "##  YAML file in Python\n",
    "###  func\n",
    " - **yaml.load**\n",
    " - **yaml.dump**\n",
    " \n",
    "### yaml file\n",
    "```py\n",
    "{'age': 37, 'spouse': {'age': 25, 'name': 'Jane Smith'}, 'name': 'Tom Smith', 'children': [{'age': 15, 'name': 'Jimmy Smith'}, {'age1': 12, 'name1': 'Jenny Smith'}]}\n",
    "```\n",
    "\n"
   ]
  },
  {
   "cell_type": "markdown",
   "metadata": {},
   "source": [
    "### yaml.load()\n",
    "\n",
    "**Tips:**\n",
    "\n",
    "- yaml.load accepts a byte string, a Unicode string, an open binary file object, or an open text file object. A byte string or a file must be encoded with `utf-8`, `utf-16-be` or `utf-16-le` encoding. **yaml.load** detects the encoding by checking the BOM (byte order mark) sequence at the beginning of the string/file. If no BOM is present, the `utf-8 ` encoding is assumed. \n",
    "- If a string or a file contains several documents, you may load them all with the **`yaml.load_all`**function.m"
   ]
  },
  {
   "cell_type": "code",
   "execution_count": 1,
   "metadata": {},
   "outputs": [
    {
     "name": "stdout",
     "output_type": "stream",
     "text": [
      "{'age': 37, 'spouse': {'age': 25, 'name': 'Jane Smith'}, 'name': 'Tom Smith', 'children': [{'age': 15, 'name': 'Jimmy Smith'}, {'age1': 12, 'name1': 'Jenny Smith'}]}\n"
     ]
    }
   ],
   "source": [
    "import yaml\n",
    "\n",
    "f = open('test.yaml')\n",
    "\n",
    "x = yaml.load(f)\n",
    " \n",
    "print(x)"
   ]
  },
  {
   "cell_type": "markdown",
   "metadata": {},
   "source": [
    "### yaml.dump()\n",
    "yaml.dump() generates a python object as yaml document for use with yaml.load.\n",
    "```py\n",
    "dump(data, stream=None, Dumper=<class 'yaml.dumper.Dumper'>, **kwds)  \n",
    "  \n",
    " #Serialize a Python object into a YAML stream.  \n",
    " #If stream is None, return the produced string instead. \n",
    "```\n",
    "  **tips:**\n",
    "- **`yaml.dump`** accepts the second optional argument, which must be an open text or binary file. In this case, **`yaml.dump`** will write the produced YAML document into the file. Otherwise, yaml.dump returns the produced document. \n",
    "- If you need to dump several YAML documents to a single stream, use the function **`yaml.dump_all`**. **`yaml.dump_all`** accepts a list or a generator producing.Python objects to be serialized into a YAML document. The second optional argument is an open file\n"
   ]
  },
  {
   "cell_type": "code",
   "execution_count": 2,
   "metadata": {},
   "outputs": [
    {
     "name": "stdout",
     "output_type": "stream",
     "text": [
      "name: Silenthand Olleander\n",
      "race: Human\n",
      "traits: [ONE_HAND, ONE_EYE]\n",
      "\n"
     ]
    }
   ],
   "source": [
    "aproject = {'name': 'Silenthand Olleander',   \n",
    "                   'race': 'Human',  \n",
    "                    'traits': ['ONE_HAND', 'ONE_EYE']  \n",
    "                   }  \n",
    "\n",
    "print yaml.dump(aproject)  "
   ]
  },
  {
   "cell_type": "code",
   "execution_count": 1,
   "metadata": {},
   "outputs": [],
   "source": [
    "import yaml\n",
    "\n",
    "data = dict(\n",
    "    A = 'a',\n",
    "    B = dict(\n",
    "        C = 'c',\n",
    "        D = 'd',\n",
    "        E = 'e',\n",
    "    )\n",
    ")\n",
    "\n",
    "with open('data.yml', 'w') as outfile:\n",
    "    yaml.dump(data, outfile, default_flow_style=False)# generate a yaml document named data.yml"
   ]
  },
  {
   "cell_type": "code",
   "execution_count": 2,
   "metadata": {},
   "outputs": [
    {
     "name": "stdout",
     "output_type": "stream",
     "text": [
      "{'camera_name': '0800461000822014', 'image_width': 1280, 'camera_matrix': {'rows': 3, 'data': [2302.59, 0, 610.756, 0, 2309.46, 506.539, 0, 0, 1], 'cols': 3}, 'projection_matrix': {'rows': 3, 'data': [2302.59, 0, 610.756, 0, 0, 2309.46, 506.539, 0, 0, 0, 1, 0], 'cols': 4}, 'image_height': 960, 'distortion_coefficients': {'rows': 1, 'data': [-0.225495, -0.363048, -0.000477994, -0.000132753, 0], 'cols': 5}, 'rectification_matrix': {'rows': 3, 'data': [1, 0, 0, 0, 1, 0, 0, 0, 1], 'cols': 3}, 'distortion_model': 'plumb_bob'}\n"
     ]
    }
   ],
   "source": [
    "import yaml\n",
    "\n",
    "f = open('camera_matrix.yaml')\n",
    "\n",
    "x = yaml.load(f)\n",
    " \n",
    "print(x)"
   ]
  },
  {
   "cell_type": "code",
   "execution_count": 4,
   "metadata": {},
   "outputs": [],
   "source": [
    "data ={'camera_name': '0800461000822014', \n",
    "       'image_width': 1280, \n",
    "       'camera_matrix': {'rows': 3, 'data': [2302.59, 0, 610.756, 0, 2309.46, 506.539, 0, 0, 1], 'cols': 3},\n",
    "       'projection_matrix': {'rows': 3, 'data': [2302.59, 0, 610.756, 0, 0, 2309.46, 506.539, 0, 0, 0, 1, 0], 'cols': 4},\n",
    "       'image_height': 960,\n",
    "       'distortion_coefficients': {'rows': 1, 'data': [-0.225495, -0.363048, -0.000477994, -0.000132753, 0], 'cols': 5},\n",
    "       'rectification_matrix': {'rows': 3, 'data': [1, 0, 0, 0, 1, 0, 0, 0, 1], 'cols': 3}, \n",
    "       'distortion_model': 'plumb_bob'}\n",
    "\n",
    "\n",
    "with open('data_test.yml', 'w') as outfile:\n",
    "    yaml.dump(data, outfile, default_flow_style=False)"
   ]
  }
 ],
 "metadata": {
  "kernelspec": {
   "display_name": "Python 3",
   "language": "python",
   "name": "python3"
  },
  "language_info": {
   "codemirror_mode": {
    "name": "ipython",
    "version": 2
   },
   "file_extension": ".py",
   "mimetype": "text/x-python",
   "name": "python",
   "nbconvert_exporter": "python",
   "pygments_lexer": "ipython2",
   "version": "2.7.12"
  }
 },
 "nbformat": 4,
 "nbformat_minor": 2
}
