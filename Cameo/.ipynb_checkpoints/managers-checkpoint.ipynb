{
 "cells": [
  {
   "cell_type": "code",
   "execution_count": null,
   "metadata": {},
   "outputs": [],
   "source": [
    "import cv2\n",
    "import numpy\n",
    "import time\n",
    "\n",
    "class CaptureManager(object):\n",
    "    \n",
    "    def_init_(self, capture, previewWindowManager = None,shouldMirrorPreview = False) :\n",
    "        \n",
    "        self.previewWindowManager = previewWindowManager\n",
    "        self.shouldMirrorPreview = shouldMirrorPreview\n",
    "        \n",
    "        \n",
    "        self._capture = capture\n",
    "        self._channel = 0\n",
    "        self._enterFrame = False\n",
    "        self._frame = None\n",
    "        self._imageFilename = None\n",
    "        self._videoFilename = None\n",
    "        self._videoEncoding = None\n",
    "        self._videoWriter = None\n",
    "        \n",
    "        self._startTime = None\n",
    "        self._framesElapsed = long(0)\n",
    "        slef._fpsEstimate = None"
   ]
  },
  {
   "cell_type": "code",
   "execution_count": null,
   "metadata": {
    "collapsed": true
   },
   "outputs": [],
   "source": [
    "@property\n",
    "def channel(self):\n",
    "    return self._channel"
   ]
  },
  {
   "cell_type": "code",
   "execution_count": null,
   "metadata": {},
   "outputs": [],
   "source": [
    "@channel setter\n",
    "def channel(self, value):\n",
    "    if self._channel != value:\n",
    "        self._channel = value\n",
    "        self._frame = None"
   ]
  },
  {
   "cell_type": "code",
   "execution_count": null,
   "metadata": {
    "collapsed": true
   },
   "outputs": [],
   "source": [
    "@property\n",
    "def frame(self):\n",
    "    if self._enteredFrame and self._frame is None:\n",
    "        _,self._frame = self._capture.retrieve()\n",
    "    return self._frame"
   ]
  },
  {
   "cell_type": "code",
   "execution_count": null,
   "metadata": {
    "collapsed": true
   },
   "outputs": [],
   "source": [
    "@property\n",
    "def isWritingImage(self):\n",
    "    \n",
    "    return self._imageFilename is not None"
   ]
  },
  {
   "cell_type": "code",
   "execution_count": null,
   "metadata": {
    "collapsed": true
   },
   "outputs": [],
   "source": [
    "\n",
    "\n",
    "@property\n",
    "def isWritingVideo(self):\n",
    "    return self._videoFilename is not None  \n"
   ]
  },
  {
   "cell_type": "code",
   "execution_count": null,
   "metadata": {
    "collapsed": true
   },
   "outputs": [],
   "source": [
    "def enterFrame(self):\n",
    "    \"\"\"Capture the next frame, if any.\"\"\"\n",
    "    \n",
    "    # but first, check that any previous frame was existed.\n",
    "    assert not self._enteredFrame, \\\n",
    "        'previous enterFrame() had no matching exitFrame()'\n",
    "        \n",
    "    if self._capture is not None:\n",
    "        self._enteredFrame = self._capture.grab()"
   ]
  },
  {
   "cell_type": "code",
   "execution_count": null,
   "metadata": {},
   "outputs": [],
   "source": [
    "def exitFrame(self):\n",
    "    \"\"\"Draw to the window, Write to file. Release the frame. \"\"\"\n",
    "    \n",
    "    \n",
    "    # Check whether any grabbed frame is retrievable.\n",
    "    # The getter may retrieve and cache the frame.\n",
    "    if self.frame is None:\n",
    "        self._enterFrame = False\n",
    "        return\n",
    "    \n",
    "    \n",
    "    #update the FPS estimate and related variables.\n",
    "    if self._framesElapsed == 0:\n",
    "        self._startTime = time.time()\n",
    "    else:\n",
    "        timeElapsed = time.time() - self._startTime\n",
    "    self._fpsEstimate = self._framesElapsed/timeElapsed\n",
    "self._framesElapsed += 1\n",
    "\n",
    "\n",
    "\n",
    "# Draw to window, if any.\n",
    "if self.previewWindowManager is not None:\n",
    "    if self.shouldMirrorPreview:\n",
    "        mirroredFrame = numpy.flipr(self._frame).copy()\n",
    "        self.previewWindowManager.show(mirroredFrame)\n",
    "    else:\n",
    "        self.previewWindowManager.show(self._frame)\n",
    "        \n",
    "                \n",
    "        \n",
    "# Write to the image file, if any.\n",
    "if self.isWritingImage:\n",
    "    cv2.imwrite(self._imageFilename, self._frame)\n",
    "    self._imageFilename = None\n",
    "    \n",
    "    \n",
    "    \n",
    "# Write to the video file, if any.\n",
    "self._writeVideoFrame()\n",
    "\n",
    "\n",
    "# Release the frame\n",
    "self._frame = None\n",
    "self._enteredFrame = False"
   ]
  },
  {
   "cell_type": "code",
   "execution_count": null,
   "metadata": {
    "collapsed": true
   },
   "outputs": [],
   "source": [
    "class WindowManager(object):\n",
    "    \n",
    "    \n",
    "    \n",
    "    def_init_(self, windowName, keypressCallback = None):\n",
    "        self.keypressCallback = keypressCallback\n",
    "        \n",
    "        self._windowName = windowName\n",
    "        self._isWindowCreated = False\n",
    "        \n",
    "        \n",
    "        \n",
    "    @property\n",
    "    def isWindowCreated(self):\n",
    "        return self._isWindowCreated\n",
    "    \n",
    "    def createWindow(self):\n",
    "        cv2.nameWindow(self._windowName)\n",
    "        self._isWindowCreated = True\n",
    "        \n",
    "        \n",
    "    def show(self, frame):\n",
    "        cv2.imshow(self._windowName, frame)\n",
    "        \n",
    "    def destroyWindow(self):\n",
    "        cv2.destroyWindow(self._windowName)\n",
    "        self._isWindowCreated = False\n",
    "        \n",
    "    def processEvents(self):\n",
    "        keycode = cv2.waitKey(1)\n",
    "        if self.keypressCallback is not None and keycode != -1:\n",
    "            #Discard any non_ASCII info encoded by GTK\n",
    "            keycode &= 0xFF\n",
    "            self.keypressCallback(keycode)"
   ]
  },
  {
   "cell_type": "code",
   "execution_count": null,
   "metadata": {
    "collapsed": true
   },
   "outputs": [],
   "source": []
  }
 ],
 "metadata": {
  "kernelspec": {
   "display_name": "Python 3",
   "language": "python",
   "name": "python3"
  },
  "language_info": {
   "codemirror_mode": {
    "name": "ipython",
    "version": 3
   },
   "file_extension": ".py",
   "mimetype": "text/x-python",
   "name": "python",
   "nbconvert_exporter": "python",
   "pygments_lexer": "ipython3",
   "version": "3.5.2"
  }
 },
 "nbformat": 4,
 "nbformat_minor": 2
}
