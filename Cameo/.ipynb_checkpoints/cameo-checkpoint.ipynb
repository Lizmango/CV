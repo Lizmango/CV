{
 "cells": [
  {
   "cell_type": "code",
   "execution_count": null,
   "metadata": {
    "collapsed": true
   },
   "outputs": [],
   "source": [
    "import cv2\n",
    "from managers import WindowManager, CaptureManager\n",
    "\n",
    "class Cameo(object):\n",
    "    def _init_(self):\n",
    "        self._windowManager = windowManager('cameo',self.onKeypress)\n",
    "        self._captureManager = CaptureManager(cv2.VideoCapture(0), self._windowmanager, True)\n",
    "        \n",
    "        \n",
    "    def run(self):\n",
    "        \"\"\"Run the main loop \"\"\"\n",
    "        self._windowManager.createwindow()\n",
    "        while self._windowManager.isWindowCreated:\n",
    "            self._captureManager.enterFrame()\n",
    "            frame = self._captureManager.frame\n",
    "            \n",
    "            \n",
    "            #ToDo: Filter the frame (chapter 3)\n",
    "            self._capturemanager.exitFrame()\n",
    "            self._windowManager.processEvents()\n",
    "            \n",
    "            \n",
    "    def onKeypress (self, keycode):\n",
    "        \"\"\"Handle a keypress\"\"\"\n",
    "        \n",
    "        space -> Take a screenshot.\n",
    "        tab -> Start/Stop recoding a screencast.\n",
    "        escape -> Quit.\n",
    "        \n",
    "        \"\"\"\n",
    "        if keycode == 32:#space\n",
    "            self._captureManager.writingImage('screen shot.png')\n",
    "        elif keycode == 9:#tab \n",
    "            if not self._captureManager.isWritingVideo:\n",
    "                self._captureManager.startWritingVideo('screencast.avi')\n",
    "            else:\n",
    "                self._captureManager.stopWritingVideo()\n",
    "                \n",
    "        elif keycode == 27:#escape\n",
    "            self._windowManagerdestroyWindow()\n",
    "        \"\"\"\n",
    "        \n",
    "    if _ name_==\"_main_\":\n",
    "        Cameo().run()"
   ]
  }
 ],
 "metadata": {
  "kernelspec": {
   "display_name": "Python 3",
   "language": "python",
   "name": "python3"
  },
  "language_info": {
   "codemirror_mode": {
    "name": "ipython",
    "version": 3
   },
   "file_extension": ".py",
   "mimetype": "text/x-python",
   "name": "python",
   "nbconvert_exporter": "python",
   "pygments_lexer": "ipython3",
   "version": "3.5.2"
  }
 },
 "nbformat": 4,
 "nbformat_minor": 2
}
