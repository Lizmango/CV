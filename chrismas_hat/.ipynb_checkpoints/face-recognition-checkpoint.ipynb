{
 "cells": [
  {
   "cell_type": "code",
   "execution_count": 2,
   "metadata": {},
   "outputs": [
    {
     "name": "stdout",
     "output_type": "stream",
     "text": [
      "[(182, 282, 311, 153)]\n"
     ]
    }
   ],
   "source": [
    "import face_recognition\n",
    "import cv2\n",
    "\n",
    "\n",
    "img = face_recognition.load_image_file(\"test.jpg\")\n",
    "face_locations = face_recognition.face_locations(img)\n",
    "print (face_locations)\n",
    "\n",
    "\n",
    "img = cv2.imread(\"test.jpg\")\n",
    "cv2.namedWindow(\"original\")\n",
    "cv2.imshow(\"original\", img)\n",
    "\n",
    "faceNum = len(face_locations)\n",
    "for i in range(0, faceNum):\n",
    "    top = face_locations[i][0]\n",
    "    right = face_locations[i][1]\n",
    "    bottom = face_locations[i][2]\n",
    "    left = face_locations[i][3]\n",
    "    \n",
    "    \n",
    "    start = (left, top)\n",
    "    end = (right, bottom)\n",
    "    \n",
    "    \n",
    "    color = (55, 255, 155)\n",
    "    thickness = 3\n",
    "    cv2.rectangle(img, start, end, color,thickness)\n",
    "    \n",
    "    \n",
    "cv2.namedWindow(\"recognition\")\n",
    "cv2.imshow(\"recognition\", img)\n",
    "\n",
    "\n",
    "cv2.waitKey(0)\n",
    "cv2.destroyAllWindows()"
   ]
  }
 ],
 "metadata": {
  "kernelspec": {
   "display_name": "Python 3",
   "language": "python",
   "name": "python3"
  },
  "language_info": {
   "codemirror_mode": {
    "name": "ipython",
    "version": 3
   },
   "file_extension": ".py",
   "mimetype": "text/x-python",
   "name": "python",
   "nbconvert_exporter": "python",
   "pygments_lexer": "ipython3",
   "version": "3.5.2"
  }
 },
 "nbformat": 4,
 "nbformat_minor": 2
}
