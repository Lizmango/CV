{
 "cells": [
  {
   "cell_type": "code",
   "execution_count": null,
   "metadata": {
    "collapsed": true
   },
   "outputs": [],
   "source": [
    "import cv2\n",
    "\n",
    "cameraCapture = cv2.VideoCapture(0)\n",
    "fps = 30  # an assumption\n",
    "size = (int(cameraCapture.get(cv2.CAP_PROP_FRAME_WIDTH)),\n",
    "        int(cameraCapture.get(cv2.CAP_PROP_FRAME_HEIGHT)))\n",
    "videoWriter = cv2.VideoWriter(\n",
    "    'MyOutPutVideo.avi',cv2.VideoWriter_fourcc('I','4','2','0'),\n",
    "    fps, size)\n",
    "\n",
    "success, frame = cameraCapture.read()\n",
    "print(success)\n",
    "numFramesRemaining = 3 * fps - 1\n",
    "while (success and numFramesRemaining) > 0:\n",
    "    videoWriter.write (frame)\n",
    "    success , frame = cameraCapture.read()\n",
    "    numFramesRemaining = numFramesRemaining - 1\n",
    "cameraCapture.release()"
   ]
  },
  {
   "cell_type": "code",
   "execution_count": null,
   "metadata": {
    "collapsed": true
   },
   "outputs": [],
   "source": [
    "import cv2\n",
    "\n",
    "videoCapture = cv2.VideoCapture('MyOutPutVideo.avi')\n",
    "fps = videoCapture.get(cv2.CAP_PROP_FPS)\n",
    "size = (int(videoCapture.get(cv2.CAP_PROP_FRAME_WIDTH)),\n",
    "        int(videoCapture.get(cv2.CAP_PROP_FRAME_HEIGHT)))\n",
    "videoWriter = cv2.VideoWriter(\n",
    "    'MyOutPutVideo.avi',cv2.VideoWriter_fourcc('I','4','2','0'),\n",
    "    fps, size)\n",
    "\n",
    "success, frame = videoCapture.read()\n",
    "print(success)\n",
    "numFramesRemaining = 3 * fps - 1\n",
    "while success :\n",
    "    videoWriter.write (frame)\n",
    "    success , frame = videoCapture.read()\n",
    "\n",
    "\n"
   ]
  },
  {
   "cell_type": "markdown",
   "metadata": {},
   "source": [
    "**show frame in window**"
   ]
  },
  {
   "cell_type": "code",
   "execution_count": 14,
   "metadata": {},
   "outputs": [
    {
     "name": "stdout",
     "output_type": "stream",
     "text": [
      "Showing camera feed. Click window or press any key to stop. \n"
     ]
    }
   ],
   "source": [
    "import cv2\n",
    "\n",
    "clicked = False \n",
    "def onMouse(event, x, y, flags, param):\n",
    "    global clicked\n",
    "    if event == cv2.EVENT_LBUTTONUP:\n",
    "        clicked = True\n",
    "        \n",
    "        \n",
    "cameraCapture = cv2.VideoCapture(0)\n",
    "cv2.namedWindow('MyWindow')\n",
    "cv2.setMouseCallback('MyWindow',onMouse)\n",
    "\n",
    "print ('Showing camera feed. Click window or press any key to stop. ')\n",
    "success, frame = cameraCapture.read()\n",
    "while success and cv2.waitKey(20) == -1 and  not clicked:\n",
    "    cv2.imshow('MyWindow',frame)\n",
    "    success, frame = cameraCapture.read()\n",
    "\n",
    "cv2.destroyWindow('MyWindow')\n",
    "cameraCapture.release()\n",
    "\n",
    "    "
   ]
  },
  {
   "cell_type": "code",
   "execution_count": null,
   "metadata": {
    "collapsed": true
   },
   "outputs": [],
   "source": []
  }
 ],
 "metadata": {
  "kernelspec": {
   "display_name": "Python 3",
   "language": "python",
   "name": "python3"
  },
  "language_info": {
   "codemirror_mode": {
    "name": "ipython",
    "version": 3
   },
   "file_extension": ".py",
   "mimetype": "text/x-python",
   "name": "python",
   "nbconvert_exporter": "python",
   "pygments_lexer": "ipython3",
   "version": "3.5.2"
  }
 },
 "nbformat": 4,
 "nbformat_minor": 2
}
