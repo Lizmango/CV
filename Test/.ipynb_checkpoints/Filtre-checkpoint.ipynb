{
 "cells": [
  {
   "cell_type": "markdown",
   "metadata": {},
   "source": [
    "## high boost filter"
   ]
  },
  {
   "cell_type": "code",
   "execution_count": null,
   "metadata": {},
   "outputs": [],
   "source": [
    "import cv2\n",
    "import numpy as np\n",
    "from scipy import  ndimage\n",
    " \n",
    "    \n",
    "kernel_3 = np.array([[-1, -1, -1], \n",
    "                    [-1,  8, -1],\n",
    "                    [-1, -1, -1]])\n",
    "\n",
    "kernel_5 = np.array([[-1, -1, -1, -1, -1],\n",
    "                      [-1,  1,  2,  1, -1],\n",
    "                      [-1,  2,  4 , 2, -1],\n",
    "                      [-1,  1,  2,  1, -1],\n",
    "                      [-1, -1, -1, -1, -1]])\n",
    "\n",
    "img = cv2.imread(\"salinger.jpg\", 0)\n",
    "\n",
    "k3 = ndimage.convolve(img, kernel_3)\n",
    "k5 = ndimage.convolve(img, kernel_5)\n",
    "\n",
    "blurred = (img, (11,11),0)\n",
    "g_hpf = img - blurred\n",
    "\n",
    "cv2.imshow(\"3*3\", k3)\n",
    "cv2.imshow(\"5*5\", k5)\n",
    "cv2.imshow(\"g_hpf\", g_hpf)\n",
    "cv2.waitKey()\n",
    "cv2.destroyAllWindows()\n",
    "\n"
   ]
  }
 ],
 "metadata": {
  "kernelspec": {
   "display_name": "Python 3",
   "language": "python",
   "name": "python3"
  },
  "language_info": {
   "codemirror_mode": {
    "name": "ipython",
    "version": 3
   },
   "file_extension": ".py",
   "mimetype": "text/x-python",
   "name": "python",
   "nbconvert_exporter": "python",
   "pygments_lexer": "ipython3",
   "version": "3.5.2"
  }
 },
 "nbformat": 4,
 "nbformat_minor": 2
}
