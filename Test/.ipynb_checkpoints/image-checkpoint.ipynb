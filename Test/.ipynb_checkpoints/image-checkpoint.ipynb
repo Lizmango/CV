{
 "cells": [
  {
   "cell_type": "markdown",
   "metadata": {},
   "source": [
    "## Getting Start With Image\n",
    "- read an image and display it\n",
    "- save image and back\n",
    "- display images with Matplotlib\n",
    "- make an bytearray and convert it to numpy.array\n",
    "- set the region of interest"
   ]
  },
  {
   "cell_type": "code",
   "execution_count": null,
   "metadata": {
    "collapsed": true
   },
   "outputs": [],
   "source": [
    "import numpy as np\n",
    "import cv2\n",
    "from matplotlib import pyplot as plt\n",
    "img = cv2.imread('./salinger.jpg',0)\n",
    "plt.imshow(img, cmap = 'gray', interpolation = 'bicubic')\n",
    "plt.xticks([]),plt.yticks([])\n",
    "plt.show()\n"
   ]
  },
  {
   "cell_type": "code",
   "execution_count": null,
   "metadata": {
    "collapsed": true
   },
   "outputs": [],
   "source": [
    "import numpy as np \n",
    "import cv2\n",
    "\n",
    "img = cv2.imread('./salinger.jpg',0)\n",
    "cv2.namedWindow('image',cv2.WINDOW_NORMAL)\n",
    "\n",
    "cv2.imshow('image',img)\n",
    "cv2.waitKey(0)\n",
    "cv2.destroyAllWindows()"
   ]
  },
  {
   "cell_type": "code",
   "execution_count": 1,
   "metadata": {},
   "outputs": [
    {
     "data": {
      "text/plain": [
       "True"
      ]
     },
     "execution_count": 1,
     "metadata": {},
     "output_type": "execute_result"
    }
   ],
   "source": [
    "import cv2\n",
    "import numpy\n",
    "import os\n",
    "\n",
    "# make an array of 120000 random bytes\n",
    "randomBytesArray = bytearray(os.urandom(120000))\n",
    "flatNumpyArray = numpy.array(randomBytesArray)\n",
    "\n",
    "# convert the array to make a 400*300 grayscale image\n",
    "grayImage = flatNumpyArray.reshape(300,400)\n",
    "cv2.imwrite ('RandomGray.png', grayImage)\n",
    "\n",
    "# convert the array to make a 400*100 color image\n",
    "bgrImage = flatNumpyArray.reshape(100,400,3)\n",
    "cv2.imwrite('RandomColor.png', bgrImage)"
   ]
  },
  {
   "cell_type": "code",
   "execution_count": 12,
   "metadata": {},
   "outputs": [
    {
     "ename": "SyntaxError",
     "evalue": "Missing parentheses in call to 'print' (<ipython-input-12-83d60c7930c3>, line 8)",
     "output_type": "error",
     "traceback": [
      "\u001b[0;36m  File \u001b[0;32m\"<ipython-input-12-83d60c7930c3>\"\u001b[0;36m, line \u001b[0;32m8\u001b[0m\n\u001b[0;31m    print img.shape', img.shape\u001b[0m\n\u001b[0m            ^\u001b[0m\n\u001b[0;31mSyntaxError\u001b[0m\u001b[0;31m:\u001b[0m Missing parentheses in call to 'print'\n"
     ]
    }
   ],
   "source": [
    "# read and write image with numpy.array\n",
    "import cv2 \n",
    " \n",
    "import numpy as np\n",
    "img = cv2.imread('chess1.jpg')\n",
    "\n",
    "# show the properties of img\n",
    "print (img.shape', img.shape) \n",
    "print('img.size', img.size)\n",
    "print('img.dtype', img.dtype)\n",
    "\n",
    "# modify pixels value\n",
    "img[0,0] = [255,255,255]\n",
    "cv2.imshow('image1',img)\n",
    "\n",
    "# the index of color:  B:0 G:1  R:2 \n",
    "img[:,:,2]=0\n",
    "\n",
    "# accessing RED value\n",
    "print('the red value =',img.item(10,10,2))\n",
    "#modify RED value\n",
    "img.itemset((10,10,2),100)\n",
    "print('new red value=',img.item(10,10,2))\n",
    "\n",
    "cv2.imshow('image2',img)\n",
    "\n",
    "cv2.waitKey(50000)\n",
    "cv2.destroyAllWindows()\n"
   ]
  },
  {
   "cell_type": "code",
   "execution_count": 18,
   "metadata": {},
   "outputs": [
    {
     "data": {
      "text/plain": [
       "-1"
      ]
     },
     "execution_count": 18,
     "metadata": {},
     "output_type": "execute_result"
    }
   ],
   "source": [
    "# set the ROI\n",
    "import cv2\n",
    "import numpy as np\n",
    "img = cv2.imread('chess1.jpg')\n",
    "my_roi = img[0:100, 0:100]\n",
    "img[300:400, 300:400] = my_roi\n",
    "cv2.imshow('image2',img)\n",
    "cv2.waitKey(50000)\n",
    "\n",
    "\n"
   ]
  },
  {
   "cell_type": "markdown",
   "metadata": {
    "collapsed": true
   },
   "source": [
    "## image blending"
   ]
  },
  {
   "cell_type": "code",
   "execution_count": 14,
   "metadata": {
    "collapsed": true
   },
   "outputs": [],
   "source": [
    "img1 = cv2.imread('3_d.jpg')\n",
    "img2 = cv2.imread('chess8.jpg')\n",
    "\n",
    "dst = cv2.addWeighted(img1,0.7,img2,0.3,0)\n",
    "cv2.imshow('dst',dst)\n",
    "cv2.waitKey(0)\n",
    "cv2.destroyAllWindows()"
   ]
  },
  {
   "cell_type": "markdown",
   "metadata": {
    "collapsed": true
   },
   "source": [
    "## Bitwise Operation"
   ]
  },
  {
   "cell_type": "code",
   "execution_count": 15,
   "metadata": {},
   "outputs": [
    {
     "ename": "SyntaxError",
     "evalue": "invalid syntax (<ipython-input-15-f45b51f6fbe0>, line 2)",
     "output_type": "error",
     "traceback": [
      "\u001b[0;36m  File \u001b[0;32m\"<ipython-input-15-f45b51f6fbe0>\"\u001b[0;36m, line \u001b[0;32m2\u001b[0m\n\u001b[0;31m    2 img1 = cv2.imread('messi5.jpg')\u001b[0m\n\u001b[0m         ^\u001b[0m\n\u001b[0;31mSyntaxError\u001b[0m\u001b[0;31m:\u001b[0m invalid syntax\n"
     ]
    }
   ],
   "source": [
    "img1 = cv2.imread('3_d.jpg')\n",
    "img2 = cv2.imread('salinger.jpg')\n",
    "\n",
    "rows,cols,channels = img2.shape\n",
    "print(img2.shape)\n",
    "roi = img1[0:rows, 0:cols]\n",
    "\n",
    "img2gray = cv2.cvtColor(img2,cv2.COLOR_BAYER_BG2GRAY)\n",
    "ret,mask = \n",
    "\n",
    "\n",
    "\n"
   ]
  }
 ],
 "metadata": {
  "kernelspec": {
   "display_name": "Python 3",
   "language": "python",
   "name": "python3"
  },
  "language_info": {
   "codemirror_mode": {
    "name": "ipython",
    "version": 3
   },
   "file_extension": ".py",
   "mimetype": "text/x-python",
   "name": "python",
   "nbconvert_exporter": "python",
   "pygments_lexer": "ipython3",
   "version": "3.5.2"
  }
 },
 "nbformat": 4,
 "nbformat_minor": 2
}
