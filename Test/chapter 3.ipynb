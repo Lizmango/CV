{
 "cells": [
  {
   "cell_type": "markdown",
   "metadata": {},
   "source": [
    "## Drawing Functions in OpenCv\n",
    "### Goal\n",
    "- learn to draw differnt geometric shapes with openCv\n",
    "- func: cv2.line() ,cv2.circle(), cv2.rectangle(), cv2.ellipse(), cv2.putText() etc."
   ]
  },
  {
   "cell_type": "code",
   "execution_count": 1,
   "metadata": {
    "collapsed": true
   },
   "outputs": [],
   "source": [
    "import numpy as np\n",
    "import cv2\n",
    "import glob\n",
    "\n",
    "# termination criteria\n",
    "criteria = (cv2.TERM_CRITERIA_EPS + cv2.TERM_CRITERIA_MAX_ITER, 30, 0.001)\n",
    "\n",
    "# prepare object points, like (0,0,0), (1,0,0), (2,0,0) ....,(6,5,0)\n",
    "objp = np.zeros((6*7,3), np.float32)\n",
    "objp[:,:2] = np.mgrid[0:7,0:6].T.reshape(-1,2)\n",
    "\n",
    "# Arrays to store object points and image points from all the images.\n",
    "objpoints = [] # 3d point in real world space\n",
    "imgpoints = [] # 2d points in image plane.\n",
    "\n",
    "images = glob.glob('*.jpg')\n",
    "\n",
    "for fname in images:\n",
    "    img = cv2.imread(fname)\n",
    "    gray = cv2.cvtColor(img,cv2.COLOR_BGR2GRAY)\n",
    "\n",
    "    # Find the chess board corners\n",
    "    ret, corners = cv2.findChessboardCorners(gray, (7,6),None)\n",
    "\n",
    "    # If found, add object points, image points (after refining them)\n",
    "    if ret == True:\n",
    "        objpoints.append(objp)\n",
    "\n",
    "        corners2 = cv2.cornerSubPix(gray,corners,(11,11),(-1,-1),criteria)\n",
    "        imgpoints.append(corners2)\n",
    "\n",
    "        # Draw and display the corners\n",
    "        img = cv2.drawChessboardCorners(img, (7,6), corners2,ret)\n",
    "        cv2.imshow('img',img)\n",
    "        cv2.waitKey(500)\n",
    "\n",
    "cv2.destroyAllWindows()\n"
   ]
  },
  {
   "cell_type": "markdown",
   "metadata": {},
   "source": [
    "### Drawing Line"
   ]
  },
  {
   "cell_type": "code",
   "execution_count": null,
   "metadata": {
    "collapsed": true
   },
   "outputs": [],
   "source": [
    "\n",
    "import numpy as np\n",
    "\n",
    "import wx\n",
    "import cv2\n",
    "\n",
    "from gui import BaseLayout\n",
    "from filters import PencilSketch, WarmingFilter, CoolingFilter, Cartoonizer\n",
    "\n",
    "class FilterLayout(BaseLayout):\n",
    "\n",
    "\n",
    "    def _init_custom_layout(self):\n",
    "        \"\"\"Initializes image filter effects\"\"\"\n",
    "        self.pencil_sketch = PencilSketch((self.imgWidth, self.imgHeight))\n",
    "        self.warm_filter = WarmingFilter()\n",
    "        self.cool_filter = CoolingFilter()\n",
    "        self.cartoonizer = Cartoonizer()\n",
    "\n",
    "    def _create_custom_layout(self):\n",
    "        \"\"\"Layout showing a row of radio buttons below the camera feed\"\"\"\n",
    "\n",
    "        # create a horizontal layout with all filter modes as radio buttons\n",
    "        pnl = wx.Panel(self, -1)\n",
    "        self.mode_warm = wx.RadioButton(pnl, -1, 'Warming Filter', (10, 10),\n",
    "                                        style=wx.RB_GROUP)\n",
    "        self.mode_cool = wx.RadioButton(pnl, -1, 'Cooling Filter', (10, 10))\n",
    "        self.mode_sketch = wx.RadioButton(pnl, -1, 'Pencil Sketch', (10, 10))\n",
    "        self.mode_cartoon = wx.RadioButton(pnl, -1, 'Cartoon', (10, 10))\n",
    "        hbox = wx.BoxSizer(wx.HORIZONTAL)\n",
    "        hbox.Add(self.mode_warm, 1)\n",
    "        hbox.Add(self.mode_cool, 1)\n",
    "        hbox.Add(self.mode_sketch, 1)\n",
    "        hbox.Add(self.mode_cartoon, 1)\n",
    "        pnl.SetSizer(hbox)\n",
    "\n",
    "        # add panel with radio buttons to existing panels in a vertical\n",
    "        # arrangement\n",
    "        self.panels_vertical.Add(pnl, flag=wx.EXPAND | wx.BOTTOM | wx.TOP,\n",
    "                                 border=1)\n",
    "\n",
    "    def _process_frame(self, frame_rgb):\n",
    "        \"\"\"Processes the current RGB camera frame\n",
    "\n",
    "            :returns: The processed RGB frame to be displayed\n",
    "        \"\"\"\n",
    "        # choose filter effect based on radio buttons setting\n",
    "        if self.mode_warm.GetValue():\n",
    "            frame = self.warm_filter.render(frame_rgb)\n",
    "        elif self.mode_cool.GetValue():\n",
    "            frame = self.cool_filter.render(frame_rgb)\n",
    "        elif self.mode_sketch.GetValue():\n",
    "            frame = self.pencil_sketch.render(frame_rgb)\n",
    "        elif self.mode_cartoon.GetValue():\n",
    "            frame = self.cartoonizer.render(frame_rgb)\n",
    "\n",
    "        return frame\n",
    "\n",
    "\n",
    "def main():\n",
    "    # open webcam\n",
    "    capture = cv2.VideoCapture(0)\n",
    "    if not(capture.isOpened()):\n",
    "        capture.open()\n",
    "\n",
    "    if hasattr(cv2, 'cv'):\n",
    "        capture.set(cv2.cv.CV_CAP_PROP_FRAME_WIDTH, 640)\n",
    "        capture.set(cv2.cv.CV_CAP_PROP_FRAME_HEIGHT, 480)\n",
    "    else:\n",
    "        capture.set(cv2.CAP_PROP_FRAME_WIDTH, 640)\n",
    "        capture.set(cv2.CAP_PROP_FRAME_HEIGHT, 480)\n",
    "\n",
    "    # start graphical user interface\n",
    "    app = wx.App()\n",
    "    layout = FilterLayout(capture, title='Fun with Filters')\n",
    "    layout.Center()\n",
    "    layout.Show()\n",
    "    app.MainLoop()\n"
   ]
  },
  {
   "cell_type": "markdown",
   "metadata": {},
   "source": [
    "## Goal\n",
    "- learn to read video,displayvideo and save video\n",
    "- learn to capture from camera and display it\n"
   ]
  },
  {
   "cell_type": "code",
   "execution_count": 11,
   "metadata": {},
   "outputs": [
    {
     "ename": "error",
     "evalue": "/io/opencv/modules/imgproc/src/color.cpp:10638: error: (-215) scn == 3 || scn == 4 in function cvtColor\n",
     "output_type": "error",
     "traceback": [
      "\u001b[0;31m\u001b[0m",
      "\u001b[0;31merror\u001b[0mTraceback (most recent call last)",
      "\u001b[0;32m<ipython-input-11-bdafbe4de456>\u001b[0m in \u001b[0;36m<module>\u001b[0;34m()\u001b[0m\n\u001b[1;32m      7\u001b[0m \u001b[0;34m\u001b[0m\u001b[0m\n\u001b[1;32m      8\u001b[0m     \u001b[0mret\u001b[0m\u001b[0;34m,\u001b[0m \u001b[0mframe\u001b[0m \u001b[0;34m=\u001b[0m \u001b[0mcap\u001b[0m\u001b[0;34m.\u001b[0m\u001b[0mread\u001b[0m\u001b[0;34m(\u001b[0m\u001b[0;34m)\u001b[0m\u001b[0;34m\u001b[0m\u001b[0m\n\u001b[0;32m----> 9\u001b[0;31m     \u001b[0mgray\u001b[0m \u001b[0;34m=\u001b[0m \u001b[0mcv2\u001b[0m\u001b[0;34m.\u001b[0m\u001b[0mcvtColor\u001b[0m\u001b[0;34m(\u001b[0m\u001b[0mframe\u001b[0m\u001b[0;34m,\u001b[0m \u001b[0mcv2\u001b[0m\u001b[0;34m.\u001b[0m\u001b[0mCOLOR_BGR2GRAY\u001b[0m\u001b[0;34m)\u001b[0m\u001b[0;34m\u001b[0m\u001b[0m\n\u001b[0m\u001b[1;32m     10\u001b[0m \u001b[0;34m\u001b[0m\u001b[0m\n\u001b[1;32m     11\u001b[0m     \u001b[0mcv2\u001b[0m\u001b[0;34m.\u001b[0m\u001b[0mimshow\u001b[0m\u001b[0;34m(\u001b[0m\u001b[0;34m'frame'\u001b[0m\u001b[0;34m,\u001b[0m\u001b[0mgray\u001b[0m\u001b[0;34m)\u001b[0m\u001b[0;34m\u001b[0m\u001b[0m\n",
      "\u001b[0;31merror\u001b[0m: /io/opencv/modules/imgproc/src/color.cpp:10638: error: (-215) scn == 3 || scn == 4 in function cvtColor\n"
     ]
    }
   ],
   "source": [
    "import numpy as np\n",
    "import cv2\n",
    "\n",
    "cap = cv2.VideoCapture(0)\n",
    "\n",
    "while(True):\n",
    "    \n",
    "    ret, frame = cap.read() \n",
    "    gray = cv2.cvtColor(frame, cv2.COLOR_BGR2GRAY)\n",
    "    \n",
    "    cv2.imshow('frame',gray)\n",
    "    if cv2.waitKey(2):\n",
    "        break\n",
    "cap.release()\n",
    "cv2.destroyAllWindows()\n",
    "\n",
    "\n"
   ]
  }
 ],
 "metadata": {
  "kernelspec": {
   "display_name": "Python 3",
   "language": "python",
   "name": "python3"
  }
 },
 "nbformat": 4,
 "nbformat_minor": 2
}
